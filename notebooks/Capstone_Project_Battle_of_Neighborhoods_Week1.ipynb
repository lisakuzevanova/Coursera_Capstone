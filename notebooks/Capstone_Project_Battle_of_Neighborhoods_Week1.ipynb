{
 "cells": [
  {
   "cell_type": "markdown",
   "metadata": {},
   "source": [
    "# __Capstone Project: The Battle of Neighborhoods__\n",
    "## *Opening a Japanese restaurant in New York*"
   ]
  },
  {
   "cell_type": "markdown",
   "metadata": {},
   "source": [
    "## __1. Introduction__\n",
    "\n",
    "New York City is perhaps the most difficult market in which to open a restaurant. Businesses must distinguish themselves from countless others — both new and old — diners’ tastes are constantly evolving and the rent is, well, too damn high. One trend that has picked up steam in the past year or two in the Big Apple is the opening of Japanese chain (or mini-chain) restaurants. These restaurants have all seized on growth opportunities in New York and diners have been quick to gravitate towards them (Embricos, 2018).\n",
    "\n",
    "This Capstone project explores different neighbourhoods in New York, and attempts to answer the following business problem: \"*If investor is looking to open a new Japanese restaurant, where would you recommend that they open it?*\". \n",
    "\n",
    "This project might be of interest to potentional *business investors* specilaizing in Japanese cuisine/ restaurant chains, as well as to aspiring *Data Scientists*, who want to learn how to implement some of the most common Exploratory Data Analysis techniques to obtain necessary data, analyze it and, finally to be able to explain your insights in a compelling story."
   ]
  },
  {
   "cell_type": "markdown",
   "metadata": {},
   "source": [
    "## __2. Data__\n",
    "\n",
    "For this project we need the following data:\n",
    "\n",
    "1. New York City data that contains all Boroughs and Neighbourhoods along with their latitudes and longitudes. <br>\n",
    "Data Source: https://cocl.us/new_york_dataset\n",
    "\n",
    "2. Median price per square foot for each Neighbourhood in NYC. <br>\n",
    "Data Source: https://www.zumper.com/blog/nyc-by-square-foot-see-which-neighborhood-gets-you-the-most-space-for-your-money/\n",
    "\n",
    "2. Data related to locations and ratings of Japanese restaurants in NYC. <br>\n",
    "Data Source: **Foursquare API**"
   ]
  },
  {
   "cell_type": "markdown",
   "metadata": {},
   "source": [
    "## __3. Methodology__\n",
    "\n",
    "- import all required libraries\n",
    "\n",
    "- obtain information about NYC boroughs/neighbourhoods along with their *coordinates* (using **requests** library) from https://cocl.us/new_york_dataset and load it into a data frame\n",
    "\n",
    "- obtain information about *medium rental Price per Sq Foot* for each NYC neighbourhood from https://www.zumper.com/blog/nyc-by-square-foot-see-which-neighborhood-gets-you-the-most-space-for-your-money/ and load it into a data frame (using **BeautifulSoup** package)\n",
    "\n",
    "- merge the above data frames on their Neighbourhood value (note that not all neighbourhoods had info on the rental price in the area, so there will be some data cleansing steps required along the way)\n",
    "\n",
    "- next, we are going to start utilizing the **Foursquare API** to explore the neighborhoods and segment them:\n",
    "\n",
    "    1. define Foursquare credentials and version\n",
    "    2. define a function **get_venues** that returns top 100 venues for a Neighbourhood within a radius of 500 meters (using url to fetch data from Foursquare API)\n",
    "    3. analyze how many Japanese restaurants are there in each Neighbourhood and borough\n",
    "        - prepare a list that contains Japanese restaurants using **get_venues** function\n",
    "        - calculate how many Japanese restaurants are there in each Neighbourhood\n",
    "        - merge the new data with the data frame from the previous step on Neighbourhoods to link the number of Japanese restaurants in the Neighbourhood to its coordinates and median rental price per sq foot\n",
    "        - data cleansing and pre-processing to prepare data frame for clustering\n",
    "\n",
    "\n",
    "- run clustering on the final data frame containing Neighbourhoods, the medium rental price per sq foot and total number of Japanese restaurants in the area using **K-means algorithm** (set number of clusters = 5)\n",
    "\n",
    "- add clustering labels to the final data frame\n",
    "\n",
    "- visualize the results\n",
    "\n",
    "    1. use **geopy** library to get the latitude and longitude values of New York City\n",
    "    2. create map to visualize clusters\n",
    "    3. examine the clusters\n"
   ]
  },
  {
   "cell_type": "markdown",
   "metadata": {},
   "source": [
    "## __4. Results__"
   ]
  },
  {
   "cell_type": "markdown",
   "metadata": {},
   "source": [
    "Now, we can examine each cluster and determine the discriminating features that distinguish each cluster."
   ]
  },
  {
   "cell_type": "markdown",
   "metadata": {},
   "source": [
    ">We can see that Neighbourhoods in **Cluster 1** have *high* Median Price per Sq Foot and *medium* number of Japanese restaurants in the area."
   ]
  },
  {
   "cell_type": "markdown",
   "metadata": {},
   "source": [
    ">We can see that Neighbourhoods in **Cluster 2** have *low* Median Price per Sq Foot and almost _no Japanese restaurants in the area_."
   ]
  },
  {
   "cell_type": "markdown",
   "metadata": {},
   "source": [
    ">We can see that Neighbourhoods in **Cluster 3** have *low* Median Price per Sq Foot and _low_ number of Japanese restaurants in the area."
   ]
  },
  {
   "cell_type": "markdown",
   "metadata": {},
   "source": [
    ">We can see that Neighbourhoods in **Cluster 4** have *high* Median Price per Sq Foot and _high_ number of Japanese restaurants in the area."
   ]
  },
  {
   "cell_type": "markdown",
   "metadata": {},
   "source": [
    ">We can see that Neighbourhoods in **Cluster 5** have *medium* Median Price per Sq Foot and _medium_ number of Japanese restaurants in the area."
   ]
  },
  {
   "cell_type": "markdown",
   "metadata": {},
   "source": [
    "## __5. Discussion__\n",
    "\n",
    "There are several options for potential improvement of the analysis results:\n",
    "\n",
    "- to add an extra step of finding an optimal value of K for clustering purposes (e.g. using the Elbow method).\n",
    "- to add other features for analysis (e.g. average rating of the restaurants in the neighbourhood etc.)"
   ]
  },
  {
   "cell_type": "markdown",
   "metadata": {},
   "source": [
    "## **6. Conclusion**\n",
    "\n",
    "- Cluster 1: high rental price & medium competition/demand\n",
    "- Cluster 2: low rental price & no competition/demand\n",
    "- Cluster 3: low rental price & low competition/demand\n",
    "- Cluster 4: high rental price & high competition/demand\n",
    "- Cluster 5: medium rental price & medium competition/demand\n",
    "\n",
    "Out of the Cluster descriptions outlined above, **any neigborhood in Cluster 5** that doesn't have a Japanese restaurant yet seems to be the most attractive option for investment, although this choice highly depends on the investor's budget. "
   ]
  },
  {
   "cell_type": "code",
   "execution_count": null,
   "metadata": {},
   "outputs": [],
   "source": []
  }
 ],
 "metadata": {
  "kernelspec": {
   "display_name": "Python",
   "language": "python",
   "name": "conda-env-python-py"
  },
  "language_info": {
   "codemirror_mode": {
    "name": "ipython",
    "version": 3
   },
   "file_extension": ".py",
   "mimetype": "text/x-python",
   "name": "python",
   "nbconvert_exporter": "python",
   "pygments_lexer": "ipython3",
   "version": "3.6.12"
  }
 },
 "nbformat": 4,
 "nbformat_minor": 4
}
